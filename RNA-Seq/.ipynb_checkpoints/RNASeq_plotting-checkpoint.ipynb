{
 "cells": [
  {
   "cell_type": "markdown",
   "metadata": {},
   "source": [
    "#### Load packages and functions"
   ]
  },
  {
   "cell_type": "code",
   "execution_count": 1,
   "metadata": {},
   "outputs": [],
   "source": [
    "import matplotlib.pyplot as plt\n",
    "import pandas as pd\n",
    "import matplotlib.pyplot as plt\n",
    "from matplotlib import rcParams\n",
    "import numpy as np\n",
    "import pickle\n",
    "\n",
    "def getSubDat(cellsMeta, cellsCount, name, norm):\n",
    "    sampIds = cellsMeta[[name in samp for samp in cellsMeta[\"sample\"].values]].reset_index()\n",
    "    getDat = cellsCount[[samp for samp in sampIds[\"qp_well_fq\"]]].copy()\n",
    "    getDat['gene_id'] = cellsCount['gene_id']\n",
    "    getDat = getDat.set_index('gene_id')\n",
    "    if norm == 1:\n",
    "        for i in range(0,len(getDat.columns)):\n",
    "            getDat.iloc[:,i] = getDat.iloc[:,i]*(1E6/getDat.iloc[:,i].sum())\n",
    "    getDat.columns = [sampName + '-' + sampIds[\"qp_well_fq\"][i] for i,sampName in enumerate(sampIds[\"sample\"])] \n",
    "    getDat = getDat.sort_index()\n",
    "    return getDat"
   ]
  },
  {
   "cell_type": "markdown",
   "metadata": {},
   "source": [
    "## Load gene info"
   ]
  },
  {
   "cell_type": "code",
   "execution_count": 2,
   "metadata": {},
   "outputs": [],
   "source": [
    "glia = pd.read_csv('geneIDs\\\\glia.csv')\n",
    "\n",
    "transmitters = pd.read_csv('geneIDs\\\\transmitters.csv')\n",
    "receptors = pd.read_csv('geneIDs\\\\receptors.csv')\n",
    "\n",
    "VgatedChannels = pd.read_csv('geneIDs\\\\VgatedChannels.csv')\n",
    "innexins = pd.read_csv('geneIDs\\\\innexins.csv')\n",
    "\n",
    "neuropeptides = pd.read_csv('geneIDs\\\\neuropeptides.csv')\n",
    "GPCRs = pd.read_csv('geneIDs\\\\GPCRs.csv')\n",
    "\n",
    "NOreceptors = pd.read_csv('geneIDs\\\\NOreceptors.csv')"
   ]
  },
  {
   "cell_type": "markdown",
   "metadata": {},
   "source": [
    "## Load RNA Seq data"
   ]
  },
  {
   "cell_type": "markdown",
   "metadata": {},
   "source": [
    "### Load the bulk data"
   ]
  },
  {
   "cell_type": "code",
   "execution_count": 25,
   "metadata": {},
   "outputs": [],
   "source": [
    "# Load the counts and key\n",
    "bulkDat1 = pd.read_csv('data\\\\180914_NB551104_0096_AHCCTVAFXY_consolidated.FPKM.genes.updated.txt',delimiter='\\t')\n",
    "bulkDat2 = pd.read_csv('data\\\\181114_NB551104_0107_AHCFK2BGX9_consolidated.FPKM.genes.updated.txt',delimiter='\\t')\n",
    "bulkDat3 = pd.read_csv('data\\\\181121_NB551104_0109_AHF2CMAFXY_consolidated.FPKM.genes.updated.txt',delimiter='\\t')\n",
    "bulkDat4 = pd.read_csv('data\\\\171116_NB551104_0039_AHWYH3BGX3_consolidated.FPKM.genes.updated.txt',delimiter='\\t')\n",
    "\n",
    "bulkDat_All = pd.concat([bulkDat1, bulkDat2.iloc[:,3:], bulkDat3.iloc[:,3:], bulkDat4.iloc[:,3:]], axis = 1).set_index('gene_id')\n",
    "\n",
    "bulkKey = pd.read_csv('data\\\\all_sample_key.txt',delimiter='\\t',header=None)\n",
    "bulkKey.columns = ['sample','line']\n",
    "\n",
    "# Specify the order to lines to look at\n",
    "lines = ['SS00096', 'SS00131', 'SS02191', 'SS02238', 'SS30295','5ng_flybrain']\n",
    "\n",
    "# Load the bulk cell dat for each line\n",
    "bulkSeq = pd.DataFrame()\n",
    "for ln in lines:\n",
    "    sampNames = [bulkKey['sample'][i] for i, val in enumerate(bulkKey['line']) if ln in val]\n",
    "    datNow = bulkDat_All[sampNames]\n",
    "    datNow.columns = [nm for nm in bulkKey['line'] if ln in nm]\n",
    "    bulkSeq = pd.concat([bulkSeq,datNow],axis=1)\n",
    "bulkSeq.columns = ['E-PG_l1r1','E-PG_l1r2','E-PG_l2r1','E-PG_l2r2',\n",
    "                   'P-EG_r1','P-EG_r2',\n",
    "                   'D7_l1r1','D7_l1r2','D7_l2r1','D7_l2r2',\n",
    "                   'wholebrain_1', 'wholebrain_2']\n",
    "\n",
    "# Save the data as a csv file to load into the R script\n",
    "bulkSeq.to_csv('data//bulkSeq.csv', sep=',')"
   ]
  },
  {
   "cell_type": "markdown",
   "metadata": {},
   "source": [
    "### Load the low cell and single cell data"
   ]
  },
  {
   "cell_type": "code",
   "execution_count": 13,
   "metadata": {},
   "outputs": [],
   "source": [
    "cellsMeta = pd.read_csv('data\\\\merged_sample_info.txt',delimiter='\\t')\n",
    "cellsCount = pd.read_csv('data\\\\merged_counts.txt',delimiter='\\t')"
   ]
  },
  {
   "cell_type": "markdown",
   "metadata": {},
   "source": [
    "### Get the low cell data"
   ]
  },
  {
   "cell_type": "code",
   "execution_count": 14,
   "metadata": {},
   "outputs": [],
   "source": [
    "PEN2s_lowCell = getSubDat(cellsMeta, cellsCount,\"SS02232_35c\",1)\n",
    "R4ds_lowCell = getSubDat(cellsMeta, cellsCount,\"SS00238\",1)\n",
    "wholeBrain_lowCell = getSubDat(cellsMeta, cellsCount,\"50pg_CBqRNA\",1)\n",
    "\n",
    "# Combine the low cell data into one dataframe\n",
    "lowCellSeq = pd.concat([PEN2s_lowCell,R4ds_lowCell,wholeBrain_lowCell], axis=1, join='inner')\n",
    "lowCellSeq.columns = ['P-EN2_r1','P-EN2_r2','P-EN2_r3','P-EN2_r4','P-EN2_r5','P-EN2_r6','P-EN2_r7',\n",
    "                      'P-EN2_r8','P-EN2_r9','P-EN2_r10','P-EN2_r11','P-EN2_r12','P-EN2_r13','P-EN2_r14',\n",
    "                      'ring_r1','ring_r2','ring_r3','ring_r4','ring_r5','ring_r6','ring_r7',\n",
    "                      'wholebrain_r1','wholebrain_r2','wholebrain_r3','wholebrain_r4',\n",
    "                      'wholebrain_r5','wholebrain_r6','wholebrain_r7','wholebrain_r8']\n",
    "lowCellSeqMean = pd.concat([PEN2s_lowCell.mean(axis=1), R4ds_lowCell.mean(axis=1), wholeBrain_lowCell.mean(axis=1)],\n",
    "                           axis = 1, join = 'inner').rename(columns={0: \"P-EN2\", 1: \"R4d\", 2: \"wholeBrain\"})\n",
    "\n",
    "# Save the data as a csv file to load into the R script\n",
    "lowCellSeq.to_csv('data//lowCellSeq.csv', sep=',')"
   ]
  },
  {
   "cell_type": "markdown",
   "metadata": {},
   "source": [
    "### Get the single cell data"
   ]
  },
  {
   "cell_type": "code",
   "execution_count": 15,
   "metadata": {},
   "outputs": [],
   "source": [
    "PEN1s_singleCell = getSubDat(cellsMeta, cellsCount,\"62862_CB_facs\",0)\n",
    "PEN2s_singleCell = getSubDat(cellsMeta, cellsCount,\"02232_CB_facs\",0)\n",
    "wholeBrain_singleCell = getSubDat(cellsMeta, cellsCount,\"qRNA_CB_10pg\",0)\n",
    "ERCCs_singleCell = getSubDat(cellsMeta, cellsCount,\"ERCC\",0)"
   ]
  },
  {
   "cell_type": "markdown",
   "metadata": {},
   "source": [
    "### Filter the single cell data"
   ]
  },
  {
   "cell_type": "code",
   "execution_count": 16,
   "metadata": {},
   "outputs": [],
   "source": [
    "PEN1_plates = [389,391,392,394,395,396]\n",
    "PEN2_plates = [386,387,388,390,393]"
   ]
  },
  {
   "cell_type": "markdown",
   "metadata": {},
   "source": [
    "#### Threshold 1: Select the single cells where more genes are detected than in the ERCC alone wells."
   ]
  },
  {
   "cell_type": "code",
   "execution_count": 17,
   "metadata": {},
   "outputs": [],
   "source": [
    "# Get all of the PEN1 ERCC controls\n",
    "PEN1_ERCCs = [[nm for nm in ERCCs_singleCell.columns if str(plt) in nm] for plt in PEN1_plates]\n",
    "PEN1_ERCCs = [item for sublist in PEN1_ERCCs for item in sublist]\n",
    "PEN1_ERCCs = ERCCs_singleCell[PEN1_ERCCs]\n",
    "\n",
    "# Get all of the PEN2 ERCC controls\n",
    "PEN2_ERCCs = [[nm for nm in ERCCs_singleCell.columns if str(plt) in nm] for plt in PEN2_plates]\n",
    "PEN2_ERCCs = [item for sublist in PEN2_ERCCs for item in sublist]\n",
    "PEN2_ERCCs = ERCCs_singleCell[PEN2_ERCCs]\n",
    "\n",
    "# Threshold\n",
    "thresh1_PEN1 = [PEN1s_singleCell.columns[i] for i,val in enumerate(PEN1s_singleCell.sum()) if val > PEN1_ERCCs.sum().max()]\n",
    "thresh1_PEN2 = [PEN2s_singleCell.columns[i] for i,val in enumerate(PEN2s_singleCell.sum()) if val > PEN2_ERCCs.sum().max()]"
   ]
  },
  {
   "cell_type": "markdown",
   "metadata": {},
   "source": [
    "#### Threshold 2: Select the single cells that are within 2 SD of the mean for number of ERCC genes detected"
   ]
  },
  {
   "cell_type": "code",
   "execution_count": 18,
   "metadata": {},
   "outputs": [],
   "source": [
    "thresh2_PEN1 = []\n",
    "for plate in PEN1_plates:\n",
    "    PEN1_wells = [nm for nm in PEN1s_singleCell.columns if str(plate) in nm]\n",
    "    PEN1_plate_dat = PEN1s_singleCell[PEN1_wells]\n",
    "    ERCCs_det_plate = [sum(sum([PEN1_plate_dat[w].loc[\n",
    "        [i for i in PEN1_plate_dat.index if 'ERCC' in i]] > 0]))\n",
    "                       for w in PEN1_wells]\n",
    "    thresh2_PEN1.append([PEN1_wells[l] for l,val in  enumerate(ERCCs_det_plate) \n",
    "                         if val > (np.mean(ERCCs_det_plate) - 2*np.std(ERCCs_det_plate)) and\n",
    "                         val < (np.mean(ERCCs_det_plate) + 2*np.std(ERCCs_det_plate))])   \n",
    "thresh2_PEN1 = [item for sublist in thresh2_PEN1 for item in sublist]\n",
    "\n",
    "thresh2_PEN2 = []\n",
    "for plate in PEN2_plates:\n",
    "    PEN2_wells = [nm for nm in PEN2s_singleCell.columns if str(plate) in nm]\n",
    "    PEN2_plate_dat = PEN2s_singleCell[PEN2_wells]\n",
    "    ERCCs_det_plate = [sum(sum([PEN2_plate_dat[w].loc[\n",
    "        [i for i in PEN2_plate_dat.index if 'ERCC' in i]] > 0]))\n",
    "                       for w in PEN2_wells]\n",
    "    thresh2_PEN2.append([PEN2_wells[l] for l,val in  enumerate(ERCCs_det_plate) \n",
    "                         if val > (np.mean(ERCCs_det_plate) - 2*np.std(ERCCs_det_plate)) and\n",
    "                         val < (np.mean(ERCCs_det_plate) + 2*np.std(ERCCs_det_plate))])   \n",
    "thresh2_PEN2 = [item for sublist in thresh2_PEN2 for item in sublist]"
   ]
  },
  {
   "cell_type": "markdown",
   "metadata": {},
   "source": [
    "#### Combine the different thresholds"
   ]
  },
  {
   "cell_type": "code",
   "execution_count": 19,
   "metadata": {},
   "outputs": [],
   "source": [
    "thresh_PEN1 = [t for t in thresh1_PEN1 if t in thresh2_PEN1]\n",
    "thresh_PEN2 = [t for t in thresh1_PEN2 if t in thresh2_PEN2]"
   ]
  },
  {
   "cell_type": "markdown",
   "metadata": {},
   "source": [
    "#### Select only the data that passes the threshold and normalize"
   ]
  },
  {
   "cell_type": "code",
   "execution_count": 20,
   "metadata": {},
   "outputs": [],
   "source": [
    "PEN1s_singleCell = PEN1s_singleCell[thresh_PEN1]\n",
    "for i in range(0,len(PEN1s_singleCell.columns)):\n",
    "    PEN1s_singleCell.iloc[:,i] = PEN1s_singleCell.iloc[:,i]*(1E6/PEN1s_singleCell.iloc[:,i].sum())\n",
    "\n",
    "PEN2s_singleCell = PEN2s_singleCell[thresh_PEN2]\n",
    "for i in range(0,len(PEN2s_singleCell.columns)):\n",
    "    PEN2s_singleCell.iloc[:,i] = PEN2s_singleCell.iloc[:,i]*(1E6/PEN2s_singleCell.iloc[:,i].sum())"
   ]
  },
  {
   "cell_type": "markdown",
   "metadata": {},
   "source": [
    "#### Find the average counts across samples for the single cell data"
   ]
  },
  {
   "cell_type": "code",
   "execution_count": 21,
   "metadata": {},
   "outputs": [],
   "source": [
    "PEN1Mean = PEN1s_singleCell.mean(axis=1)\n",
    "PEN2Mean = PEN2s_singleCell.mean(axis=1)\n",
    "wholeBrainMean = wholeBrain_singleCell.mean(axis=1)\n",
    "\n",
    "singleCellSeqMean = pd.concat([PEN1Mean, PEN2Mean,wholeBrainMean], axis=1, join='inner')\n",
    "singleCellSeqMean = singleCellSeqMean.rename(columns={0: \"P-EN1\", 1: \"P-EN2\", 2: \"wholeBrain\"})"
   ]
  },
  {
   "cell_type": "markdown",
   "metadata": {},
   "source": [
    "## Plot the data"
   ]
  },
  {
   "cell_type": "code",
   "execution_count": 11,
   "metadata": {},
   "outputs": [],
   "source": [
    "def pltHtMap(genes,counts,cLabel,maxCts):\n",
    "\n",
    "    lookAtGenes = counts.loc[genes['gene_id'].values]\n",
    "    pc = plt.pcolor(np.log10(lookAtGenes.values+1),vmin=0,vmax=maxCts)\n",
    "    plt.yticks(np.arange(0.5, len(genes), 1), genes[\"name\"],fontsize = 6)\n",
    "    plt.xticks(np.arange(0.5, len(lookAtGenes.columns)+0.5, 1), lookAtGenes.columns,rotation = 90,fontsize = 6)\n",
    "    cbar = plt.colorbar(pc)\n",
    "    cbar.set_label('log10(' + cLabel + '+1)', rotation=270,fontsize = 6)\n",
    "    cbar.ax.tick_params(labelsize=6)"
   ]
  },
  {
   "cell_type": "markdown",
   "metadata": {},
   "source": [
    "#### Figure 2"
   ]
  },
  {
   "cell_type": "code",
   "execution_count": 26,
   "metadata": {},
   "outputs": [
    {
     "data": {
      "image/png": "[encoded data removed]",
      "text/plain": [
       "<Figure size 288x144 with 6 Axes>"
      ]
     },
     "metadata": {
      "needs_background": "light"
     },
     "output_type": "display_data"
    }
   ],
   "source": [
    "genes2plt = transmitters\n",
    "\n",
    "fig = plt.figure(figsize=[4,2])\n",
    "gs = fig.add_gridspec(1,4)\n",
    "rcParams['svg.fonttype'] = 'none'\n",
    "\n",
    "ax1 = fig.add_subplot(gs[0, 0:2])\n",
    "plt1 = pltHtMap(genes2plt,bulkSeq,'FPKM',3)\n",
    "ax1.axvline(x=4, color = 'r',linewidth=0.5)\n",
    "ax1.axvline(x=6, color = 'r',linewidth=0.5)\n",
    "ax1.axvline(x=10, color = 'r',linewidth=0.5)\n",
    "ax1.set_aspect('equal')\n",
    "\n",
    "ax2 = fig.add_subplot(gs[0,2])\n",
    "plt2 = pltHtMap(genes2plt,lowCellSeqMean[['R4d','wholeBrain']],'CPM',4)\n",
    "ax2.axvline(x=1, color = 'r',linewidth=0.5)\n",
    "ax2.set_aspect('equal')\n",
    "ax2.tick_params(axis='y',labelleft=False) \n",
    "\n",
    "ax3 = fig.add_subplot(gs[0,3])\n",
    "plt3 = pltHtMap(genes2plt,singleCellSeqMean,'CPM',4)\n",
    "ax3.axvline(x=1, color = 'r',linewidth=0.5)\n",
    "ax3.axvline(x=2, color = 'r',linewidth=0.5)\n",
    "ax3.set_aspect('equal')\n",
    "ax3.tick_params(axis='y',labelleft=False) \n",
    "\n",
    "plt.show()\n",
    "    \n",
    "#fig.savefig(\"plots//transmitters.svg\")"
   ]
  },
  {
   "cell_type": "markdown",
   "metadata": {},
   "source": [
    "#### Figure 3"
   ]
  },
  {
   "cell_type": "code",
   "execution_count": 29,
   "metadata": {},
   "outputs": [
    {
     "data": {
      "image/png": "[encoded data removed]",
      "text/plain": [
       "<Figure size 144x288 with 2 Axes>"
      ]
     },
     "metadata": {
      "needs_background": "light"
     },
     "output_type": "display_data"
    }
   ],
   "source": [
    "genes2plt = receptors\n",
    "\n",
    "fig = plt.figure(figsize=[2,4])\n",
    "rcParams['svg.fonttype'] = 'none'\n",
    "\n",
    "ax1 = fig.add_subplot()\n",
    "plt1 = pltHtMap(genes2plt,\n",
    "                bulkSeq[['E-PG_l1r1','E-PG_l1r2','E-PG_l2r1','E-PG_l2r2',\n",
    "                         'wholebrain_1', 'wholebrain_2']],\n",
    "                'FPKM',3)\n",
    "ax1.axvline(x=4, color = 'r',linewidth=0.5)\n",
    "ax1.set_aspect('equal')\n",
    "\n",
    "#fig.savefig(\"plots//EPG_receptors.svg\")"
   ]
  },
  {
   "cell_type": "markdown",
   "metadata": {},
   "source": [
    "#### Figure 5"
   ]
  },
  {
   "cell_type": "code",
   "execution_count": 30,
   "metadata": {},
   "outputs": [
    {
     "data": {
      "image/png": "[encoded data removed]",
      "text/plain": [
       "<Figure size 144x288 with 2 Axes>"
      ]
     },
     "metadata": {
      "needs_background": "light"
     },
     "output_type": "display_data"
    }
   ],
   "source": [
    "genes2plt = VgatedChannels\n",
    "\n",
    "fig = plt.figure(figsize=[2,4])\n",
    "rcParams['svg.fonttype'] = 'none'\n",
    "\n",
    "ax1 = fig.add_subplot()\n",
    "plt1 = pltHtMap(genes2plt,\n",
    "                bulkSeq[['E-PG_l1r1','E-PG_l1r2','E-PG_l2r1','E-PG_l2r2',\n",
    "                         'wholebrain_1', 'wholebrain_2']],\n",
    "                'FPKM',3)\n",
    "ax1.axvline(x=4, color = 'r',linewidth=0.5)\n",
    "ax1.set_aspect('equal')\n",
    "\n",
    "#fig.savefig(\"plots//EPG_VgatedChannels.svg\")"
   ]
  },
  {
   "cell_type": "markdown",
   "metadata": {},
   "source": [
    "#### Figure 6"
   ]
  },
  {
   "cell_type": "code",
   "execution_count": 31,
   "metadata": {},
   "outputs": [
    {
     "data": {
      "image/png": "[encoded data removed]",
      "text/plain": [
       "<Figure size 288x288 with 2 Axes>"
      ]
     },
     "metadata": {
      "needs_background": "light"
     },
     "output_type": "display_data"
    }
   ],
   "source": [
    "genes2plt = receptors\n",
    "\n",
    "fig = plt.figure(figsize=[4,4])\n",
    "rcParams['svg.fonttype'] = 'none'\n",
    "\n",
    "ax1 = fig.add_subplot()\n",
    "plt1 = pltHtMap(genes2plt,\n",
    "                lowCellSeq[['ring_r1','ring_r2','ring_r3','ring_r4','ring_r5','ring_r6','ring_r7',\n",
    "                      'wholebrain_r1','wholebrain_r2','wholebrain_r3','wholebrain_r4',\n",
    "                      'wholebrain_r5','wholebrain_r6','wholebrain_r7','wholebrain_r8']],\n",
    "                'CPM',4)\n",
    "ax1.axvline(x=7, color = 'r',linewidth=0.5)\n",
    "ax1.set_aspect('equal')\n",
    "\n",
    "#fig.savefig(\"plots//ring_receptors.svg\")"
   ]
  },
  {
   "cell_type": "markdown",
   "metadata": {},
   "source": [
    "## Look at the most differentially expressed genes"
   ]
  },
  {
   "cell_type": "code",
   "execution_count": 33,
   "metadata": {},
   "outputs": [],
   "source": [
    "def names4GenesPVals(dge_table,genesOfInt):\n",
    "    dge_genes = dge_table['Unnamed: 0']\n",
    "    dge_pvals = dge_table['PValue']\n",
    "\n",
    "    geneNames = []\n",
    "    genePs = []\n",
    "    for i,gene in enumerate(dge_genes):\n",
    "        for j,intGene in enumerate(genesOfInt['gene_id']):\n",
    "            if gene == intGene:\n",
    "                geneNames.append(genesOfInt['name'][j])\n",
    "                genePs.append(dge_pvals[i])\n",
    "\n",
    "    d = {'gene_names': geneNames, 'PValue': genePs}\n",
    "    return pd.DataFrame(data=d)"
   ]
  },
  {
   "cell_type": "code",
   "execution_count": 36,
   "metadata": {},
   "outputs": [],
   "source": [
    "dge_table_EPG_bulk = pd.read_csv('dge\\\\dge_table_EPG_wholebrain.csv',delimiter=',')\n",
    "dge_table_PEG_bulk = pd.read_csv('dge\\\\dge_table_PEG_wholebrain.csv',delimiter=',')\n",
    "dge_table_D7_bulk = pd.read_csv('dge\\\\dge_table_D7_wholebrain.csv',delimiter=',')\n",
    "dge_table_ring_lowCell = pd.read_csv('dge\\\\dge_table_ring_wholebrain.csv',delimiter=',')\n",
    "dge_table_PEN2_lowCell = pd.read_csv('dge\\\\dge_table_PEN2_wholebrain.csv',delimiter=',')\n",
    "\n",
    "genesOfInt = pd.concat([glia,transmitters,receptors,VgatedChannels,innexins,neuropeptides,GPCRs,NOreceptors]).reset_index()\n",
    "\n",
    "EPG_PVals_bulk = names4GenesPVals(dge_table_EPG_bulk,genesOfInt)\n",
    "PEG_PVals_bulk = names4GenesPVals(dge_table_PEG_bulk,genesOfInt)\n",
    "D7_PVals_bulk = names4GenesPVals(dge_table_D7_bulk,genesOfInt)\n",
    "ring_PVals_lowCell = names4GenesPVals(dge_table_ring_lowCell,genesOfInt)\n",
    "PEN2_PVals_lowCell = names4GenesPVals(dge_table_PEN2_lowCell,genesOfInt)"
   ]
  },
  {
   "cell_type": "markdown",
   "metadata": {},
   "source": [
    "### Plot the p values\n",
    "1. Put all the p values into one matrix\n",
    "2. Determine if the sample counts are greater than or less than the bulk counts\n",
    "3. Plot the log 10 of the p values, flipping the sign of those where the counts are higher"
   ]
  },
  {
   "cell_type": "code",
   "execution_count": 43,
   "metadata": {},
   "outputs": [],
   "source": [
    "# Merge the p values into one data frame\n",
    "combPVals_bulk = pd.DataFrame({'gene_names':EPG_PVals_bulk['gene_names']})\n",
    "combPVals_bulk = pd.merge(combPVals_bulk,EPG_PVals_bulk,on='gene_names')\n",
    "combPVals_bulk = combPVals_bulk.rename(columns = {\"PValue\":\"PValue - EPG\"})\n",
    "combPVals_bulk = pd.merge(combPVals_bulk,PEG_PVals_bulk,on='gene_names')\n",
    "combPVals_bulk = combPVals_bulk.rename(columns = {\"PValue\":\"PValue - PEG\"})\n",
    "combPVals_bulk = pd.merge(combPVals_bulk,D7_PVals_bulk,on='gene_names')\n",
    "combPVals_bulk = combPVals_bulk.rename(columns = {\"PValue\":\"PValue - D7\"})\n",
    "\n",
    "# Find the mean expression values across samples\n",
    "# bulk\n",
    "EPGMeanVals = bulkSeq.iloc[:,0:4].mean(axis=1)\n",
    "PEGMeanVals = bulkSeq.iloc[:,4:6].mean(axis=1)\n",
    "D7MeanVals = bulkSeq.iloc[:,6:10].mean(axis=1)\n",
    "WBMeanVals = bulkSeq.iloc[:,10:12].mean(axis=1)\n",
    "ctDiffsBulk = pd.DataFrame({'EPGDiff':(EPGMeanVals-WBMeanVals),\n",
    "                            'PEGDiff':(PEGMeanVals-WBMeanVals),\n",
    "                            'D7Diff':(D7MeanVals-WBMeanVals),\n",
    "                           })\n",
    "ctDiffsBulk[ctDiffsBulk >= 0] = 0\n",
    "ctDiffsBulk[ctDiffsBulk < 0] = 1\n",
    "ctDiffsBulk[ctDiffsBulk == 0] = -1"
   ]
  },
  {
   "cell_type": "code",
   "execution_count": 44,
   "metadata": {},
   "outputs": [],
   "source": [
    "# Merge the p values into one data frame\n",
    "combPVals = pd.DataFrame({'gene_names':PEN2_PVals_lowCell['gene_names']})\n",
    "combPVals = pd.merge(combPVals,PEN2_PVals_lowCell,on='gene_names')\n",
    "combPVals = combPVals.rename(columns = {\"PValue\":\"PValue - PEN2_lc\"})\n",
    "combPVals = pd.merge(combPVals,ring_PVals_lowCell,on='gene_names')\n",
    "combPVals = combPVals.rename(columns = {\"PValue\":\"PValue - R4m_lc\"})\n",
    "\n",
    "# Find the mean expression values across samples\n",
    "# low cell\n",
    "PEN2MeanVals_lc = lowCellSeq.iloc[:,0:14].mean(axis=1)\n",
    "R4mMeanVals_lc = lowCellSeq.iloc[:,14:21].mean(axis=1)\n",
    "WBMeanVals_lc = lowCellSeq.iloc[:,21:29].mean(axis=1)\n",
    "ctDiffsLowCell = pd.DataFrame({'R4mDiff_lc':(R4mMeanVals_lc-WBMeanVals_lc),\n",
    "                        'PEN2Diff_lc':(PEN2MeanVals_lc-WBMeanVals_lc)\n",
    "                       })\n",
    "ctDiffsLowCell[ctDiffsLowCell >= 0] = 0\n",
    "ctDiffsLowCell[ctDiffsLowCell < 0] = 1\n",
    "ctDiffsLowCell[ctDiffsLowCell == 0] = -1"
   ]
  },
  {
   "cell_type": "code",
   "execution_count": null,
   "metadata": {},
   "outputs": [],
   "source": [
    "from matplotlib import colors\n",
    "\n",
    "## Specify the genes to consider\n",
    "geneNm = 'neuropeptides'\n",
    "genesToConsider = neuropeptides\n",
    "\n",
    "# Select those values from the p value and signed data frames\n",
    "combDat = genesToConsider.rename(columns={'name':'gene_names'})\n",
    "combDat = pd.merge(combDat,combPVals,on='gene_names')\n",
    "combDat = pd.merge(combDat,ctDiffsLowCell.reset_index(),on='gene_id')\n",
    "\n",
    "# Manipulate the data for plotting\n",
    "pltDat = pd.DataFrame({'gene_names':combDat['gene_names'],\n",
    "                       'PEN2 (low cell)':(np.log10(combDat['PValue - PEN2_lc'])*combDat['PEN2Diff_lc']),\n",
    "                       'R4m (low cell)':(np.log10(combDat['PValue - R4m_lc'])*combDat['R4mDiff_lc']),\n",
    "                      })\n",
    "\n",
    "# Plot the low cell data\n",
    "fig = plt.figure()\n",
    "rcParams['svg.fonttype'] = 'none'\n",
    "pc = plt.pcolor(pltDat.iloc[:,1:3],vmin=-3,vmax=3,cmap='PiYG',\n",
    "               norm = colors.DivergingNorm(vmin=-3., vcenter=0., vmax=3))\n",
    "\n",
    "plt.xticks(np.arange(0.5, 2.5, 1), pltDat.columns[5:7],fontsize = 12,rotation=90)\n",
    "plt.yticks(np.arange(0.5, len(genesToConsider)), genesToConsider[\"name\"],fontsize = 12)\n",
    "\n",
    "cbar = plt.colorbar(pc)\n",
    "cbar.set_label('log10(p value)', rotation=270,size=14,labelpad=14)\n",
    "\n",
    "plt.gcf().subplots_adjust(bottom=0.15)\n",
    "plt.gca().set_aspect('equal', adjustable='box')\n",
    "plt.show()\n",
    "\n",
    "#fig.savefig(\"plots//\" + geneNm + \"_PVals_lowCell_newpipeline.svg\")"
   ]
  },
  {
   "cell_type": "code",
   "execution_count": 48,
   "metadata": {},
   "outputs": [
    {
     "name": "stderr",
     "output_type": "stream",
     "text": [
      "C:\\Users\\turnerevansd\\Anaconda3\\lib\\site-packages\\ipykernel_launcher.py:23: MatplotlibDeprecationWarning: \n",
      "The DivergingNorm class was deprecated in Matplotlib 3.2 and will be removed two minor releases later. Use TwoSlopeNorm instead.\n"
     ]
    },
    {
     "data": {
      "image/png": "[encoded data removed]",
      "text/plain": [
       "<Figure size 432x288 with 2 Axes>"
      ]
     },
     "metadata": {
      "needs_background": "light"
     },
     "output_type": "display_data"
    }
   ],
   "source": [
    "from matplotlib import colors\n",
    "\n",
    "## Specify the genes to consider\n",
    "geneNm = 'transmitters'\n",
    "genesToConsider = transmitters\n",
    "\n",
    "# Select those values from the p value and signed data frames\n",
    "combDat = genesToConsider.rename(columns={'name':'gene_names'})\n",
    "combDat = pd.merge(combDat,combPVals_bulk,on='gene_names')\n",
    "combDat = pd.merge(combDat,ctDiffsBulk.reset_index(),on='gene_id')\n",
    "\n",
    "# Manipulate the data for plotting\n",
    "pltDat = pd.DataFrame({'gene_names':combDat['gene_names'],\n",
    "                       'EPG (bulk)':(np.log10(combDat['PValue - EPG'])*combDat['EPGDiff']),\n",
    "                       'PEG (bulk)':(np.log10(combDat['PValue - PEG'])*combDat['PEGDiff']),\n",
    "                       'D7 (bulk)':(np.log10(combDat['PValue - D7'])*combDat['D7Diff']),\n",
    "                      })\n",
    "\n",
    "# Plot the low cell data\n",
    "fig = plt.figure()\n",
    "rcParams['svg.fonttype'] = 'none'\n",
    "pc = plt.pcolor(pltDat.iloc[:,1:3],vmin=-3,vmax=3,cmap='PiYG',\n",
    "               norm = colors.DivergingNorm(vmin=-3., vcenter=0., vmax=3))\n",
    "\n",
    "plt.xticks(np.arange(0.5, 2.5, 1), pltDat.columns[5:7],fontsize = 12,rotation=90)\n",
    "plt.yticks(np.arange(0.5, len(genesToConsider)), genesToConsider[\"name\"],fontsize = 12)\n",
    "\n",
    "cbar = plt.colorbar(pc)\n",
    "cbar.set_label('log10(p value)', rotation=270,size=14,labelpad=14)\n",
    "\n",
    "plt.gcf().subplots_adjust(bottom=0.15)\n",
    "plt.gca().set_aspect('equal', adjustable='box')\n",
    "plt.show()\n",
    "\n",
    "#fig.savefig(\"plots//\" + geneNm + \"_PVals_lowCell_newpipeline.svg\")"
   ]
  },
  {
   "cell_type": "markdown",
   "metadata": {},
   "source": [
    "p values\n",
    "GABA for ring\n",
    "vGlut for D7s\n",
    "GluClalpha for EPGs\n",
    "Nmdar1, Nmdar2 for EPGs\n",
    "mAChR-B for EPGs\n",
    "Rdl for ring"
   ]
  }
 ],
 "metadata": {
  "kernelspec": {
   "display_name": "Python 3",
   "language": "python",
   "name": "python3"
  },
  "language_info": {
   "codemirror_mode": {
    "name": "ipython",
    "version": 3
   },
   "file_extension": ".py",
   "mimetype": "text/x-python",
   "name": "python",
   "nbconvert_exporter": "python",
   "pygments_lexer": "ipython3",
   "version": "3.7.6"
  }
 },
 "nbformat": 4,
 "nbformat_minor": 4
}
