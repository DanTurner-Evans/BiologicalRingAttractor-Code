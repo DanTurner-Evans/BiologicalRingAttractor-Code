{
 "cells": [
  {
   "cell_type": "markdown",
   "metadata": {},
   "source": [
    "# Code to assess differential gene expression among bulk RNA-seq samples"
   ]
  },
  {
   "cell_type": "markdown",
   "metadata": {},
   "source": [
    "#### Install required packages"
   ]
  },
  {
   "cell_type": "code",
   "execution_count": 1,
   "metadata": {},
   "outputs": [
    {
     "name": "stderr",
     "output_type": "stream",
     "text": [
      "Loading required package: edgeR\n",
      "Warning message:\n",
      "\"package 'edgeR' was built under R version 3.6.2\"Loading required package: limma\n",
      "Warning message:\n",
      "\"package 'limma' was built under R version 3.6.2\"Loading required package: gplots\n",
      "Warning message in library(package, lib.loc = lib.loc, character.only = TRUE, logical.return = TRUE, :\n",
      "\"there is no package called 'gplots'\"Loading required package: feather\n",
      "Warning message in library(package, lib.loc = lib.loc, character.only = TRUE, logical.return = TRUE, :\n",
      "\"there is no package called 'feather'\""
     ]
    }
   ],
   "source": [
    "if (!require(edgeR)) {install.packages(\"BiocManager\");BiocManager::install(\"edgeR\")}\n",
    "require(edgeR)\n",
    "require(gplots)\n",
    "require(feather)"
   ]
  },
  {
   "cell_type": "markdown",
   "metadata": {},
   "source": [
    "#### Load data from csv file (genes in rows, samples in columns)"
   ]
  },
  {
   "cell_type": "code",
   "execution_count": 2,
   "metadata": {},
   "outputs": [
    {
     "data": {
      "text/html": [
       "<table>\n",
       "<thead><tr><th></th><th scope=col>SS02232_35c_r14</th><th scope=col>SS02232_35c_r09</th><th scope=col>SS02232_35c_r05</th><th scope=col>SS02232_35c_r02</th><th scope=col>SS02232_35c_r04</th></tr></thead>\n",
       "<tbody>\n",
       "\t<tr><th scope=row>EGFP</th><td>   1.428539 </td><td>   3.870995 </td><td>    0.606423</td><td>    1.191703</td><td>    1.15666 </td></tr>\n",
       "\t<tr><th scope=row>ERCC-00002</th><td>6938.412836 </td><td>8609.093355 </td><td>12913.171140</td><td>11183.533530</td><td>11819.91260 </td></tr>\n",
       "\t<tr><th scope=row>ERCC-00003</th><td> 186.662400 </td><td> 936.135676 </td><td>  585.198185</td><td>  311.630243</td><td>  609.56003 </td></tr>\n",
       "\t<tr><th scope=row>ERCC-00004</th><td>1625.677127 </td><td>1906.465143 </td><td> 3825.316219</td><td> 2913.117131</td><td> 3259.46900 </td></tr>\n",
       "\t<tr><th scope=row>ERCC-00009</th><td> 393.800523 </td><td> 172.259287 </td><td>  596.720222</td><td>  481.447871</td><td>  473.07410 </td></tr>\n",
       "</tbody>\n",
       "</table>\n"
      ],
      "text/latex": [
       "\\begin{tabular}{r|lllll}\n",
       "  & SS02232\\_35c\\_r14 & SS02232\\_35c\\_r09 & SS02232\\_35c\\_r05 & SS02232\\_35c\\_r02 & SS02232\\_35c\\_r04\\\\\n",
       "\\hline\n",
       "\tEGFP &    1.428539  &    3.870995  &     0.606423 &     1.191703 &     1.15666 \\\\\n",
       "\tERCC-00002 & 6938.412836  & 8609.093355  & 12913.171140 & 11183.533530 & 11819.91260 \\\\\n",
       "\tERCC-00003 &  186.662400  &  936.135676  &   585.198185 &   311.630243 &   609.56003 \\\\\n",
       "\tERCC-00004 & 1625.677127  & 1906.465143  &  3825.316219 &  2913.117131 &  3259.46900 \\\\\n",
       "\tERCC-00009 &  393.800523  &  172.259287  &   596.720222 &   481.447871 &   473.07410 \\\\\n",
       "\\end{tabular}\n"
      ],
      "text/markdown": [
       "\n",
       "| <!--/--> | SS02232_35c_r14 | SS02232_35c_r09 | SS02232_35c_r05 | SS02232_35c_r02 | SS02232_35c_r04 |\n",
       "|---|---|---|---|---|---|\n",
       "| EGFP |    1.428539  |    3.870995  |     0.606423 |     1.191703 |     1.15666  |\n",
       "| ERCC-00002 | 6938.412836  | 8609.093355  | 12913.171140 | 11183.533530 | 11819.91260  |\n",
       "| ERCC-00003 |  186.662400  |  936.135676  |   585.198185 |   311.630243 |   609.56003  |\n",
       "| ERCC-00004 | 1625.677127  | 1906.465143  |  3825.316219 |  2913.117131 |  3259.46900  |\n",
       "| ERCC-00009 |  393.800523  |  172.259287  |   596.720222 |   481.447871 |   473.07410  |\n",
       "\n"
      ],
      "text/plain": [
       "           SS02232_35c_r14 SS02232_35c_r09 SS02232_35c_r05 SS02232_35c_r02\n",
       "EGFP          1.428539        3.870995         0.606423        1.191703   \n",
       "ERCC-00002 6938.412836     8609.093355     12913.171140    11183.533530   \n",
       "ERCC-00003  186.662400      936.135676       585.198185      311.630243   \n",
       "ERCC-00004 1625.677127     1906.465143      3825.316219     2913.117131   \n",
       "ERCC-00009  393.800523      172.259287       596.720222      481.447871   \n",
       "           SS02232_35c_r04\n",
       "EGFP           1.15666    \n",
       "ERCC-00002 11819.91260    \n",
       "ERCC-00003   609.56003    \n",
       "ERCC-00004  3259.46900    \n",
       "ERCC-00009   473.07410    "
      ]
     },
     "metadata": {},
     "output_type": "display_data"
    },
    {
     "name": "stderr",
     "output_type": "stream",
     "text": [
      "Warning message in (function (..., deparse.level = 1) :\n",
      "\"number of columns of result is not a multiple of vector length (arg 15)\""
     ]
    },
    {
     "name": "stdout",
     "output_type": "stream",
     "text": [
      "[1] \"SS02232\" \"SS00238\" \"X50pg\"  \n"
     ]
    }
   ],
   "source": [
    "dat=read.csv(\"lowCellSeq.csv\",as.is=T,header=T,row.names=1)\n",
    "dat[1:5,1:5] #view first five rows+columns of data matrix to check that the input is correct\n",
    "celltyp=(do.call(rbind,strsplit(colnames(dat),\"_\"))[,1])\n",
    "print(unique(celltyp))\n",
    "dge_table=list()"
   ]
  },
  {
   "cell_type": "markdown",
   "metadata": {},
   "source": [
    "#### Run differential expression among all pairs of cell types"
   ]
  },
  {
   "cell_type": "code",
   "execution_count": 3,
   "metadata": {},
   "outputs": [],
   "source": [
    "celltype1_columns=which(celltyp==\"SS02232\")\n",
    "celltype2_columns=which(celltyp==\"SS00238\")\n",
    "\n",
    "classvec=as.factor(rep(c(1,2),times=c(length(celltype1_columns),length(celltype2_columns))))\n",
    "startmat_cpm=sweep(dat[,c(celltype1_columns,celltype2_columns)],2,colSums(dat[,c(celltype1_columns,celltype2_columns)]),\"/\")*10^6\n",
    "e_design=model.matrix(~classvec)\n",
    "y2 = DGEList(counts=dat[,c(celltype1_columns,celltype2_columns)])\n",
    "y2 = estimateDisp(y2, e_design)\n",
    "fit = glmQLFit(y2, e_design)\n",
    "qlf.2vs1 <- glmQLFTest(fit, coef=2)\n",
    "outval2=topTags(qlf.2vs1,n=nrow(startmat_cpm),p.value=1)\n",
    "outval2$table=outval2$table[intersect(rownames(outval2$table),rownames(startmat_cpm)),]\n",
    "mean1=apply(startmat_cpm[rownames(outval2$table),classvec==1],1,mean)\n",
    "mean2=apply(startmat_cpm[rownames(outval2$table),classvec==2],1,mean)\n",
    "frac1=rowSums(startmat_cpm[rownames(outval2$table),classvec==1]>0)/length(celltype1_columns)\n",
    "frac2=rowSums(startmat_cpm[rownames(outval2$table),classvec==2]>0)/length(celltype2_columns)\n",
    "dge_table[[\"SS02232_SS00238\"]]=cbind(outval2$table,mean1,mean2,frac1,frac2)"
   ]
  },
  {
   "cell_type": "code",
   "execution_count": 4,
   "metadata": {},
   "outputs": [],
   "source": [
    "celltype1_columns=which(celltyp==\"SS02232\")\n",
    "celltype2_columns=which(celltyp==\"X50pg\")\n",
    "\n",
    "classvec=as.factor(rep(c(1,2),times=c(length(celltype1_columns),length(celltype2_columns))))\n",
    "startmat_cpm=sweep(dat[,c(celltype1_columns,celltype2_columns)],2,colSums(dat[,c(celltype1_columns,celltype2_columns)]),\"/\")*10^6\n",
    "e_design=model.matrix(~classvec)\n",
    "y2 = DGEList(counts=dat[,c(celltype1_columns,celltype2_columns)])\n",
    "y2 = estimateDisp(y2, e_design)\n",
    "fit = glmQLFit(y2, e_design)\n",
    "qlf.2vs1 <- glmQLFTest(fit, coef=2)\n",
    "outval2=topTags(qlf.2vs1,n=nrow(startmat_cpm),p.value=1)\n",
    "outval2$table=outval2$table[intersect(rownames(outval2$table),rownames(startmat_cpm)),]\n",
    "mean1=apply(startmat_cpm[rownames(outval2$table),classvec==1],1,mean)\n",
    "mean2=apply(startmat_cpm[rownames(outval2$table),classvec==2],1,mean)\n",
    "frac1=rowSums(startmat_cpm[rownames(outval2$table),classvec==1]>0)/length(celltype1_columns)\n",
    "frac2=rowSums(startmat_cpm[rownames(outval2$table),classvec==2]>0)/length(celltype2_columns)\n",
    "dge_table[[\"SS02232_X50pg\"]]=cbind(outval2$table,mean1,mean2,frac1,frac2)"
   ]
  },
  {
   "cell_type": "code",
   "execution_count": 5,
   "metadata": {},
   "outputs": [],
   "source": [
    "celltype1_columns=which(celltyp==\"SS00238\")\n",
    "celltype2_columns=which(celltyp==\"X50pg\")\n",
    "\n",
    "classvec=as.factor(rep(c(1,2),times=c(length(celltype1_columns),length(celltype2_columns))))\n",
    "startmat_cpm=sweep(dat[,c(celltype1_columns,celltype2_columns)],2,colSums(dat[,c(celltype1_columns,celltype2_columns)]),\"/\")*10^6\n",
    "e_design=model.matrix(~classvec)\n",
    "y2 = DGEList(counts=dat[,c(celltype1_columns,celltype2_columns)])\n",
    "y2 = estimateDisp(y2, e_design)\n",
    "fit = glmQLFit(y2, e_design)\n",
    "qlf.2vs1 <- glmQLFTest(fit, coef=2)\n",
    "outval2=topTags(qlf.2vs1,n=nrow(startmat_cpm),p.value=1)\n",
    "outval2$table=outval2$table[intersect(rownames(outval2$table),rownames(startmat_cpm)),]\n",
    "mean1=apply(startmat_cpm[rownames(outval2$table),classvec==1],1,mean)\n",
    "mean2=apply(startmat_cpm[rownames(outval2$table),classvec==2],1,mean)\n",
    "frac1=rowSums(startmat_cpm[rownames(outval2$table),classvec==1]>0)/length(celltype1_columns)\n",
    "frac2=rowSums(startmat_cpm[rownames(outval2$table),classvec==2]>0)/length(celltype2_columns)\n",
    "dge_table[[\"SS00238_X50pg\"]]=cbind(outval2$table,mean1,mean2,frac1,frac2)"
   ]
  },
  {
   "cell_type": "markdown",
   "metadata": {},
   "source": [
    "#### View top differentially expressed genes"
   ]
  },
  {
   "cell_type": "code",
   "execution_count": 6,
   "metadata": {},
   "outputs": [
    {
     "data": {
      "text/html": [
       "<table>\n",
       "<thead><tr><th></th><th scope=col>logFC</th><th scope=col>logCPM</th><th scope=col>F</th><th scope=col>PValue</th><th scope=col>FDR</th><th scope=col>mean1</th><th scope=col>mean2</th><th scope=col>frac1</th><th scope=col>frac2</th></tr></thead>\n",
       "<tbody>\n",
       "\t<tr><th scope=row>FBgn0037835</th><td> 13.865893  </td><td>11.535793   </td><td>3179.2102   </td><td>5.245016e-30</td><td>7.357184e-26</td><td>   0.3942416</td><td>8.898418e+03</td><td>0.4285714   </td><td>1.0000000   </td></tr>\n",
       "\t<tr><th scope=row>FBgn0025360</th><td>-11.065802  </td><td> 9.547566   </td><td>1333.5993   </td><td>7.063110e-25</td><td>4.953712e-21</td><td>1117.6170349</td><td>3.312233e-01</td><td>1.0000000   </td><td>0.7142857   </td></tr>\n",
       "\t<tr><th scope=row>FBgn0012344</th><td>-12.895027  </td><td>10.833614   </td><td>1065.9307   </td><td>1.445562e-23</td><td>6.758965e-20</td><td>2732.5469275</td><td>1.688685e-01</td><td>1.0000000   </td><td>0.1428571   </td></tr>\n",
       "\t<tr><th scope=row>FBgn0038571</th><td>-12.080073  </td><td> 9.263025   </td><td>1042.7954   </td><td>1.941283e-23</td><td>6.807593e-20</td><td> 916.8391510</td><td>2.434318e-02</td><td>1.0000000   </td><td>0.1428571   </td></tr>\n",
       "\t<tr><th scope=row>FBgn0031294</th><td> -3.073045  </td><td>12.607522   </td><td> 983.9119   </td><td>4.235797e-23</td><td>1.188310e-19</td><td>8831.9380834</td><td>1.049316e+03</td><td>1.0000000   </td><td>1.0000000   </td></tr>\n",
       "\t<tr><th scope=row>FBgn0000303</th><td> -6.945615  </td><td>10.695144   </td><td> 808.5427   </td><td>5.852285e-22</td><td>1.368167e-18</td><td>2472.2021430</td><td>1.985252e+01</td><td>1.0000000   </td><td>1.0000000   </td></tr>\n",
       "</tbody>\n",
       "</table>\n"
      ],
      "text/latex": [
       "\\begin{tabular}{r|lllllllll}\n",
       "  & logFC & logCPM & F & PValue & FDR & mean1 & mean2 & frac1 & frac2\\\\\n",
       "\\hline\n",
       "\tFBgn0037835 &  13.865893   & 11.535793    & 3179.2102    & 5.245016e-30 & 7.357184e-26 &    0.3942416 & 8.898418e+03 & 0.4285714    & 1.0000000   \\\\\n",
       "\tFBgn0025360 & -11.065802   &  9.547566    & 1333.5993    & 7.063110e-25 & 4.953712e-21 & 1117.6170349 & 3.312233e-01 & 1.0000000    & 0.7142857   \\\\\n",
       "\tFBgn0012344 & -12.895027   & 10.833614    & 1065.9307    & 1.445562e-23 & 6.758965e-20 & 2732.5469275 & 1.688685e-01 & 1.0000000    & 0.1428571   \\\\\n",
       "\tFBgn0038571 & -12.080073   &  9.263025    & 1042.7954    & 1.941283e-23 & 6.807593e-20 &  916.8391510 & 2.434318e-02 & 1.0000000    & 0.1428571   \\\\\n",
       "\tFBgn0031294 &  -3.073045   & 12.607522    &  983.9119    & 4.235797e-23 & 1.188310e-19 & 8831.9380834 & 1.049316e+03 & 1.0000000    & 1.0000000   \\\\\n",
       "\tFBgn0000303 &  -6.945615   & 10.695144    &  808.5427    & 5.852285e-22 & 1.368167e-18 & 2472.2021430 & 1.985252e+01 & 1.0000000    & 1.0000000   \\\\\n",
       "\\end{tabular}\n"
      ],
      "text/markdown": [
       "\n",
       "| <!--/--> | logFC | logCPM | F | PValue | FDR | mean1 | mean2 | frac1 | frac2 |\n",
       "|---|---|---|---|---|---|---|---|---|---|\n",
       "| FBgn0037835 |  13.865893   | 11.535793    | 3179.2102    | 5.245016e-30 | 7.357184e-26 |    0.3942416 | 8.898418e+03 | 0.4285714    | 1.0000000    |\n",
       "| FBgn0025360 | -11.065802   |  9.547566    | 1333.5993    | 7.063110e-25 | 4.953712e-21 | 1117.6170349 | 3.312233e-01 | 1.0000000    | 0.7142857    |\n",
       "| FBgn0012344 | -12.895027   | 10.833614    | 1065.9307    | 1.445562e-23 | 6.758965e-20 | 2732.5469275 | 1.688685e-01 | 1.0000000    | 0.1428571    |\n",
       "| FBgn0038571 | -12.080073   |  9.263025    | 1042.7954    | 1.941283e-23 | 6.807593e-20 |  916.8391510 | 2.434318e-02 | 1.0000000    | 0.1428571    |\n",
       "| FBgn0031294 |  -3.073045   | 12.607522    |  983.9119    | 4.235797e-23 | 1.188310e-19 | 8831.9380834 | 1.049316e+03 | 1.0000000    | 1.0000000    |\n",
       "| FBgn0000303 |  -6.945615   | 10.695144    |  808.5427    | 5.852285e-22 | 1.368167e-18 | 2472.2021430 | 1.985252e+01 | 1.0000000    | 1.0000000    |\n",
       "\n"
      ],
      "text/plain": [
       "            logFC      logCPM    F         PValue       FDR         \n",
       "FBgn0037835  13.865893 11.535793 3179.2102 5.245016e-30 7.357184e-26\n",
       "FBgn0025360 -11.065802  9.547566 1333.5993 7.063110e-25 4.953712e-21\n",
       "FBgn0012344 -12.895027 10.833614 1065.9307 1.445562e-23 6.758965e-20\n",
       "FBgn0038571 -12.080073  9.263025 1042.7954 1.941283e-23 6.807593e-20\n",
       "FBgn0031294  -3.073045 12.607522  983.9119 4.235797e-23 1.188310e-19\n",
       "FBgn0000303  -6.945615 10.695144  808.5427 5.852285e-22 1.368167e-18\n",
       "            mean1        mean2        frac1     frac2    \n",
       "FBgn0037835    0.3942416 8.898418e+03 0.4285714 1.0000000\n",
       "FBgn0025360 1117.6170349 3.312233e-01 1.0000000 0.7142857\n",
       "FBgn0012344 2732.5469275 1.688685e-01 1.0000000 0.1428571\n",
       "FBgn0038571  916.8391510 2.434318e-02 1.0000000 0.1428571\n",
       "FBgn0031294 8831.9380834 1.049316e+03 1.0000000 1.0000000\n",
       "FBgn0000303 2472.2021430 1.985252e+01 1.0000000 1.0000000"
      ]
     },
     "metadata": {},
     "output_type": "display_data"
    },
    {
     "data": {
      "text/html": [
       "<table>\n",
       "<thead><tr><th></th><th scope=col>logFC</th><th scope=col>logCPM</th><th scope=col>F</th><th scope=col>PValue</th><th scope=col>FDR</th><th scope=col>mean1</th><th scope=col>mean2</th><th scope=col>frac1</th><th scope=col>frac2</th></tr></thead>\n",
       "<tbody>\n",
       "\t<tr><th scope=row>FBgn0260964</th><td>12.31919    </td><td>8.641018    </td><td>2663.698    </td><td>1.576204e-28</td><td>2.210941e-24</td><td>0.04247145  </td><td>1090.4418   </td><td>0.07142857  </td><td>1           </td></tr>\n",
       "\t<tr><th scope=row>FBgn0035023</th><td>11.25864    </td><td>8.380746    </td><td>1736.951    </td><td>4.732474e-26</td><td>3.202548e-22</td><td>0.19737888  </td><td> 908.9514   </td><td>0.35714286  </td><td>1           </td></tr>\n",
       "\t<tr><th scope=row>FBgn0003248</th><td>11.72353    </td><td>9.516314    </td><td>1689.340    </td><td>6.849394e-26</td><td>3.202548e-22</td><td>0.40522594  </td><td>2005.8311   </td><td>0.35714286  </td><td>1           </td></tr>\n",
       "\t<tr><th scope=row>FBgn0011581</th><td>11.34301    </td><td>9.638821    </td><td>1527.317    </td><td>2.615357e-25</td><td>9.171403e-22</td><td>0.64030078  </td><td>2183.8953   </td><td>0.42857143  </td><td>1           </td></tr>\n",
       "\t<tr><th scope=row>FBgn0000121</th><td>11.00055    </td><td>8.277562    </td><td>1423.031    </td><td>6.685114e-25</td><td>1.875442e-21</td><td>0.23124596  </td><td> 845.6234   </td><td>0.35714286  </td><td>1           </td></tr>\n",
       "\t<tr><th scope=row>FBgn0266526</th><td>10.90452    </td><td>7.203438    </td><td>1100.534    </td><td>2.002245e-23</td><td>4.224057e-20</td><td>0.03750878  </td><td> 397.9153   </td><td>0.07142857  </td><td>1           </td></tr>\n",
       "</tbody>\n",
       "</table>\n"
      ],
      "text/latex": [
       "\\begin{tabular}{r|lllllllll}\n",
       "  & logFC & logCPM & F & PValue & FDR & mean1 & mean2 & frac1 & frac2\\\\\n",
       "\\hline\n",
       "\tFBgn0260964 & 12.31919     & 8.641018     & 2663.698     & 1.576204e-28 & 2.210941e-24 & 0.04247145   & 1090.4418    & 0.07142857   & 1           \\\\\n",
       "\tFBgn0035023 & 11.25864     & 8.380746     & 1736.951     & 4.732474e-26 & 3.202548e-22 & 0.19737888   &  908.9514    & 0.35714286   & 1           \\\\\n",
       "\tFBgn0003248 & 11.72353     & 9.516314     & 1689.340     & 6.849394e-26 & 3.202548e-22 & 0.40522594   & 2005.8311    & 0.35714286   & 1           \\\\\n",
       "\tFBgn0011581 & 11.34301     & 9.638821     & 1527.317     & 2.615357e-25 & 9.171403e-22 & 0.64030078   & 2183.8953    & 0.42857143   & 1           \\\\\n",
       "\tFBgn0000121 & 11.00055     & 8.277562     & 1423.031     & 6.685114e-25 & 1.875442e-21 & 0.23124596   &  845.6234    & 0.35714286   & 1           \\\\\n",
       "\tFBgn0266526 & 10.90452     & 7.203438     & 1100.534     & 2.002245e-23 & 4.224057e-20 & 0.03750878   &  397.9153    & 0.07142857   & 1           \\\\\n",
       "\\end{tabular}\n"
      ],
      "text/markdown": [
       "\n",
       "| <!--/--> | logFC | logCPM | F | PValue | FDR | mean1 | mean2 | frac1 | frac2 |\n",
       "|---|---|---|---|---|---|---|---|---|---|\n",
       "| FBgn0260964 | 12.31919     | 8.641018     | 2663.698     | 1.576204e-28 | 2.210941e-24 | 0.04247145   | 1090.4418    | 0.07142857   | 1            |\n",
       "| FBgn0035023 | 11.25864     | 8.380746     | 1736.951     | 4.732474e-26 | 3.202548e-22 | 0.19737888   |  908.9514    | 0.35714286   | 1            |\n",
       "| FBgn0003248 | 11.72353     | 9.516314     | 1689.340     | 6.849394e-26 | 3.202548e-22 | 0.40522594   | 2005.8311    | 0.35714286   | 1            |\n",
       "| FBgn0011581 | 11.34301     | 9.638821     | 1527.317     | 2.615357e-25 | 9.171403e-22 | 0.64030078   | 2183.8953    | 0.42857143   | 1            |\n",
       "| FBgn0000121 | 11.00055     | 8.277562     | 1423.031     | 6.685114e-25 | 1.875442e-21 | 0.23124596   |  845.6234    | 0.35714286   | 1            |\n",
       "| FBgn0266526 | 10.90452     | 7.203438     | 1100.534     | 2.002245e-23 | 4.224057e-20 | 0.03750878   |  397.9153    | 0.07142857   | 1            |\n",
       "\n"
      ],
      "text/plain": [
       "            logFC    logCPM   F        PValue       FDR          mean1     \n",
       "FBgn0260964 12.31919 8.641018 2663.698 1.576204e-28 2.210941e-24 0.04247145\n",
       "FBgn0035023 11.25864 8.380746 1736.951 4.732474e-26 3.202548e-22 0.19737888\n",
       "FBgn0003248 11.72353 9.516314 1689.340 6.849394e-26 3.202548e-22 0.40522594\n",
       "FBgn0011581 11.34301 9.638821 1527.317 2.615357e-25 9.171403e-22 0.64030078\n",
       "FBgn0000121 11.00055 8.277562 1423.031 6.685114e-25 1.875442e-21 0.23124596\n",
       "FBgn0266526 10.90452 7.203438 1100.534 2.002245e-23 4.224057e-20 0.03750878\n",
       "            mean2     frac1      frac2\n",
       "FBgn0260964 1090.4418 0.07142857 1    \n",
       "FBgn0035023  908.9514 0.35714286 1    \n",
       "FBgn0003248 2005.8311 0.35714286 1    \n",
       "FBgn0011581 2183.8953 0.42857143 1    \n",
       "FBgn0000121  845.6234 0.35714286 1    \n",
       "FBgn0266526  397.9153 0.07142857 1    "
      ]
     },
     "metadata": {},
     "output_type": "display_data"
    },
    {
     "data": {
      "text/html": [
       "<table>\n",
       "<thead><tr><th></th><th scope=col>logFC</th><th scope=col>logCPM</th><th scope=col>F</th><th scope=col>PValue</th><th scope=col>FDR</th><th scope=col>mean1</th><th scope=col>mean2</th><th scope=col>frac1</th><th scope=col>frac2</th></tr></thead>\n",
       "<tbody>\n",
       "\t<tr><th scope=row>FBgn0260964</th><td>11.638044   </td><td> 9.195151   </td><td>2846.870    </td><td>1.095872e-23</td><td>1.404416e-19</td><td>1.369538e-01</td><td>1090.4418   </td><td>0.2857143   </td><td>1           </td></tr>\n",
       "\t<tr><th scope=row>FBgn0032840</th><td>11.817178   </td><td> 8.792407   </td><td>2684.984    </td><td>2.002447e-23</td><td>1.404416e-19</td><td>2.437476e-02</td><td> 822.8444   </td><td>0.1428571   </td><td>1           </td></tr>\n",
       "\t<tr><th scope=row>FBgn0037835</th><td>-6.192795   </td><td>12.042743   </td><td>1920.803    </td><td>6.265057e-22</td><td>2.929332e-18</td><td>8.898418e+03</td><td> 121.4002   </td><td>1.0000000   </td><td>1           </td></tr>\n",
       "\t<tr><th scope=row>FBgn0032048</th><td>-3.797906   </td><td>11.626033   </td><td>1627.675    </td><td>3.423291e-21</td><td>1.200463e-17</td><td>6.254940e+03</td><td> 449.5106   </td><td>1.0000000   </td><td>1           </td></tr>\n",
       "\t<tr><th scope=row>FBgn0027654</th><td>-2.493236   </td><td>13.897130   </td><td>1453.307    </td><td>1.092146e-20</td><td>3.063906e-17</td><td>2.717241e+04</td><td>4825.8746   </td><td>1.0000000   </td><td>1           </td></tr>\n",
       "\t<tr><th scope=row>FBgn0267033</th><td>-3.083662   </td><td>11.680009   </td><td>1164.579    </td><td>1.049072e-19</td><td>2.169217e-16</td><td>6.192094e+03</td><td> 730.2100   </td><td>1.0000000   </td><td>1           </td></tr>\n",
       "</tbody>\n",
       "</table>\n"
      ],
      "text/latex": [
       "\\begin{tabular}{r|lllllllll}\n",
       "  & logFC & logCPM & F & PValue & FDR & mean1 & mean2 & frac1 & frac2\\\\\n",
       "\\hline\n",
       "\tFBgn0260964 & 11.638044    &  9.195151    & 2846.870     & 1.095872e-23 & 1.404416e-19 & 1.369538e-01 & 1090.4418    & 0.2857143    & 1           \\\\\n",
       "\tFBgn0032840 & 11.817178    &  8.792407    & 2684.984     & 2.002447e-23 & 1.404416e-19 & 2.437476e-02 &  822.8444    & 0.1428571    & 1           \\\\\n",
       "\tFBgn0037835 & -6.192795    & 12.042743    & 1920.803     & 6.265057e-22 & 2.929332e-18 & 8.898418e+03 &  121.4002    & 1.0000000    & 1           \\\\\n",
       "\tFBgn0032048 & -3.797906    & 11.626033    & 1627.675     & 3.423291e-21 & 1.200463e-17 & 6.254940e+03 &  449.5106    & 1.0000000    & 1           \\\\\n",
       "\tFBgn0027654 & -2.493236    & 13.897130    & 1453.307     & 1.092146e-20 & 3.063906e-17 & 2.717241e+04 & 4825.8746    & 1.0000000    & 1           \\\\\n",
       "\tFBgn0267033 & -3.083662    & 11.680009    & 1164.579     & 1.049072e-19 & 2.169217e-16 & 6.192094e+03 &  730.2100    & 1.0000000    & 1           \\\\\n",
       "\\end{tabular}\n"
      ],
      "text/markdown": [
       "\n",
       "| <!--/--> | logFC | logCPM | F | PValue | FDR | mean1 | mean2 | frac1 | frac2 |\n",
       "|---|---|---|---|---|---|---|---|---|---|\n",
       "| FBgn0260964 | 11.638044    |  9.195151    | 2846.870     | 1.095872e-23 | 1.404416e-19 | 1.369538e-01 | 1090.4418    | 0.2857143    | 1            |\n",
       "| FBgn0032840 | 11.817178    |  8.792407    | 2684.984     | 2.002447e-23 | 1.404416e-19 | 2.437476e-02 |  822.8444    | 0.1428571    | 1            |\n",
       "| FBgn0037835 | -6.192795    | 12.042743    | 1920.803     | 6.265057e-22 | 2.929332e-18 | 8.898418e+03 |  121.4002    | 1.0000000    | 1            |\n",
       "| FBgn0032048 | -3.797906    | 11.626033    | 1627.675     | 3.423291e-21 | 1.200463e-17 | 6.254940e+03 |  449.5106    | 1.0000000    | 1            |\n",
       "| FBgn0027654 | -2.493236    | 13.897130    | 1453.307     | 1.092146e-20 | 3.063906e-17 | 2.717241e+04 | 4825.8746    | 1.0000000    | 1            |\n",
       "| FBgn0267033 | -3.083662    | 11.680009    | 1164.579     | 1.049072e-19 | 2.169217e-16 | 6.192094e+03 |  730.2100    | 1.0000000    | 1            |\n",
       "\n"
      ],
      "text/plain": [
       "            logFC     logCPM    F        PValue       FDR          mean1       \n",
       "FBgn0260964 11.638044  9.195151 2846.870 1.095872e-23 1.404416e-19 1.369538e-01\n",
       "FBgn0032840 11.817178  8.792407 2684.984 2.002447e-23 1.404416e-19 2.437476e-02\n",
       "FBgn0037835 -6.192795 12.042743 1920.803 6.265057e-22 2.929332e-18 8.898418e+03\n",
       "FBgn0032048 -3.797906 11.626033 1627.675 3.423291e-21 1.200463e-17 6.254940e+03\n",
       "FBgn0027654 -2.493236 13.897130 1453.307 1.092146e-20 3.063906e-17 2.717241e+04\n",
       "FBgn0267033 -3.083662 11.680009 1164.579 1.049072e-19 2.169217e-16 6.192094e+03\n",
       "            mean2     frac1     frac2\n",
       "FBgn0260964 1090.4418 0.2857143 1    \n",
       "FBgn0032840  822.8444 0.1428571 1    \n",
       "FBgn0037835  121.4002 1.0000000 1    \n",
       "FBgn0032048  449.5106 1.0000000 1    \n",
       "FBgn0027654 4825.8746 1.0000000 1    \n",
       "FBgn0267033  730.2100 1.0000000 1    "
      ]
     },
     "metadata": {},
     "output_type": "display_data"
    }
   ],
   "source": [
    "head(dge_table[[\"SS02232_SS00238\"]])\n",
    "head(dge_table[[\"SS02232_X50pg\"]])\n",
    "head(dge_table[[\"SS00238_X50pg\"]])"
   ]
  },
  {
   "cell_type": "markdown",
   "metadata": {},
   "source": [
    "#### View expression differences in Gad1 (FBgn0004516) across each pair of cell types"
   ]
  },
  {
   "cell_type": "code",
   "execution_count": 7,
   "metadata": {},
   "outputs": [
    {
     "data": {
      "text/html": [
       "<table>\n",
       "<thead><tr><th></th><th scope=col>logFC</th><th scope=col>logCPM</th><th scope=col>F</th><th scope=col>PValue</th><th scope=col>FDR</th><th scope=col>mean1</th><th scope=col>mean2</th><th scope=col>frac1</th><th scope=col>frac2</th></tr></thead>\n",
       "<tbody>\n",
       "\t<tr><th scope=row>FBgn0004516</th><td>6.522142    </td><td>8.084711    </td><td>63.71153    </td><td>1.21428e-08 </td><td>7.536594e-07</td><td>8.454583    </td><td>789.4589    </td><td>0.4285714   </td><td>1           </td></tr>\n",
       "</tbody>\n",
       "</table>\n"
      ],
      "text/latex": [
       "\\begin{tabular}{r|lllllllll}\n",
       "  & logFC & logCPM & F & PValue & FDR & mean1 & mean2 & frac1 & frac2\\\\\n",
       "\\hline\n",
       "\tFBgn0004516 & 6.522142     & 8.084711     & 63.71153     & 1.21428e-08  & 7.536594e-07 & 8.454583     & 789.4589     & 0.4285714    & 1           \\\\\n",
       "\\end{tabular}\n"
      ],
      "text/markdown": [
       "\n",
       "| <!--/--> | logFC | logCPM | F | PValue | FDR | mean1 | mean2 | frac1 | frac2 |\n",
       "|---|---|---|---|---|---|---|---|---|---|\n",
       "| FBgn0004516 | 6.522142     | 8.084711     | 63.71153     | 1.21428e-08  | 7.536594e-07 | 8.454583     | 789.4589     | 0.4285714    | 1            |\n",
       "\n"
      ],
      "text/plain": [
       "            logFC    logCPM   F        PValue      FDR          mean1   \n",
       "FBgn0004516 6.522142 8.084711 63.71153 1.21428e-08 7.536594e-07 8.454583\n",
       "            mean2    frac1     frac2\n",
       "FBgn0004516 789.4589 0.4285714 1    "
      ]
     },
     "metadata": {},
     "output_type": "display_data"
    },
    {
     "data": {
      "text/html": [
       "<table>\n",
       "<thead><tr><th></th><th scope=col>logFC</th><th scope=col>logCPM</th><th scope=col>F</th><th scope=col>PValue</th><th scope=col>FDR</th><th scope=col>mean1</th><th scope=col>mean2</th><th scope=col>frac1</th><th scope=col>frac2</th></tr></thead>\n",
       "<tbody>\n",
       "\t<tr><th scope=row>FBgn0004516</th><td>5.928499    </td><td>7.62904     </td><td>50.95804    </td><td>1.120502e-07</td><td>3.71567e-06 </td><td>8.454583    </td><td>522.2536    </td><td>0.4285714   </td><td>1           </td></tr>\n",
       "</tbody>\n",
       "</table>\n"
      ],
      "text/latex": [
       "\\begin{tabular}{r|lllllllll}\n",
       "  & logFC & logCPM & F & PValue & FDR & mean1 & mean2 & frac1 & frac2\\\\\n",
       "\\hline\n",
       "\tFBgn0004516 & 5.928499     & 7.62904      & 50.95804     & 1.120502e-07 & 3.71567e-06  & 8.454583     & 522.2536     & 0.4285714    & 1           \\\\\n",
       "\\end{tabular}\n"
      ],
      "text/markdown": [
       "\n",
       "| <!--/--> | logFC | logCPM | F | PValue | FDR | mean1 | mean2 | frac1 | frac2 |\n",
       "|---|---|---|---|---|---|---|---|---|---|\n",
       "| FBgn0004516 | 5.928499     | 7.62904      | 50.95804     | 1.120502e-07 | 3.71567e-06  | 8.454583     | 522.2536     | 0.4285714    | 1            |\n",
       "\n"
      ],
      "text/plain": [
       "            logFC    logCPM  F        PValue       FDR         mean1   \n",
       "FBgn0004516 5.928499 7.62904 50.95804 1.120502e-07 3.71567e-06 8.454583\n",
       "            mean2    frac1     frac2\n",
       "FBgn0004516 522.2536 0.4285714 1    "
      ]
     },
     "metadata": {},
     "output_type": "display_data"
    },
    {
     "data": {
      "text/html": [
       "<table>\n",
       "<thead><tr><th></th><th scope=col>logFC</th><th scope=col>logCPM</th><th scope=col>F</th><th scope=col>PValue</th><th scope=col>FDR</th><th scope=col>mean1</th><th scope=col>mean2</th><th scope=col>frac1</th><th scope=col>frac2</th></tr></thead>\n",
       "<tbody>\n",
       "\t<tr><th scope=row>FBgn0004516</th><td>-0.5957953  </td><td>9.344162    </td><td>24.96826    </td><td>6.25163e-05 </td><td>0.0004959933</td><td>789.4589    </td><td>522.2536    </td><td>1           </td><td>1           </td></tr>\n",
       "</tbody>\n",
       "</table>\n"
      ],
      "text/latex": [
       "\\begin{tabular}{r|lllllllll}\n",
       "  & logFC & logCPM & F & PValue & FDR & mean1 & mean2 & frac1 & frac2\\\\\n",
       "\\hline\n",
       "\tFBgn0004516 & -0.5957953   & 9.344162     & 24.96826     & 6.25163e-05  & 0.0004959933 & 789.4589     & 522.2536     & 1            & 1           \\\\\n",
       "\\end{tabular}\n"
      ],
      "text/markdown": [
       "\n",
       "| <!--/--> | logFC | logCPM | F | PValue | FDR | mean1 | mean2 | frac1 | frac2 |\n",
       "|---|---|---|---|---|---|---|---|---|---|\n",
       "| FBgn0004516 | -0.5957953   | 9.344162     | 24.96826     | 6.25163e-05  | 0.0004959933 | 789.4589     | 522.2536     | 1            | 1            |\n",
       "\n"
      ],
      "text/plain": [
       "            logFC      logCPM   F        PValue      FDR          mean1   \n",
       "FBgn0004516 -0.5957953 9.344162 24.96826 6.25163e-05 0.0004959933 789.4589\n",
       "            mean2    frac1 frac2\n",
       "FBgn0004516 522.2536 1     1    "
      ]
     },
     "metadata": {},
     "output_type": "display_data"
    }
   ],
   "source": [
    "dge_table[[\"SS02232_SS00238\"]][c(\"FBgn0004516\"),]\n",
    "dge_table[[\"SS02232_X50pg\"]][c(\"FBgn0004516\"),]\n",
    "dge_table[[\"SS00238_X50pg\"]][c(\"FBgn0004516\"),]"
   ]
  },
  {
   "cell_type": "markdown",
   "metadata": {},
   "source": [
    "#### Save differential gene expression tables as csvs"
   ]
  },
  {
   "cell_type": "code",
   "execution_count": 8,
   "metadata": {},
   "outputs": [],
   "source": [
    "for (tablename in names(dge_table)) {\n",
    "    write.csv(dge_table[[tablename]],file=paste0(\"dge\\\\dge_table_\",tablename,\".csv\"))\n",
    "}"
   ]
  }
 ],
 "metadata": {
  "kernelspec": {
   "display_name": "R",
   "language": "R",
   "name": "ir"
  },
  "language_info": {
   "codemirror_mode": "r",
   "file_extension": ".r",
   "mimetype": "text/x-r-source",
   "name": "R",
   "pygments_lexer": "r",
   "version": "3.6.1"
  }
 },
 "nbformat": 4,
 "nbformat_minor": 2
}
