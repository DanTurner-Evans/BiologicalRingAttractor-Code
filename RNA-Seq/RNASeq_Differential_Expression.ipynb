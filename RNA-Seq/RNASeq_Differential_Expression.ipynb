{
 "cells": [
  {
   "cell_type": "markdown",
   "metadata": {},
   "source": [
    "# Assess differential gene expression among bulk RNA-seq samples"
   ]
  },
  {
   "cell_type": "markdown",
   "metadata": {},
   "source": [
    "#### Install required packages"
   ]
  },
  {
   "cell_type": "code",
   "execution_count": 1,
   "metadata": {},
   "outputs": [
    {
     "name": "stderr",
     "output_type": "stream",
     "text": [
      "Loading required package: edgeR\n",
      "Warning message:\n",
      "\"package 'edgeR' was built under R version 3.6.2\"Loading required package: limma\n",
      "Warning message:\n",
      "\"package 'limma' was built under R version 3.6.2\"Loading required package: gplots\n",
      "Warning message in library(package, lib.loc = lib.loc, character.only = TRUE, logical.return = TRUE, :\n",
      "\"there is no package called 'gplots'\"Loading required package: feather\n",
      "Warning message in library(package, lib.loc = lib.loc, character.only = TRUE, logical.return = TRUE, :\n",
      "\"there is no package called 'feather'\""
     ]
    }
   ],
   "source": [
    "if (!require(edgeR)) {install.packages(\"BiocManager\");BiocManager::install(\"edgeR\")}\n",
    "require(edgeR)\n",
    "require(gplots)\n",
    "require(feather)"
   ]
  },
  {
   "cell_type": "markdown",
   "metadata": {},
   "source": [
    "## Look at the low cell data"
   ]
  },
  {
   "cell_type": "markdown",
   "metadata": {},
   "source": [
    "#### Load data from csv file (genes in rows, samples in columns)"
   ]
  },
  {
   "cell_type": "code",
   "execution_count": 2,
   "metadata": {},
   "outputs": [
    {
     "data": {
      "text/html": [
       "<table>\n",
       "<thead><tr><th></th><th scope=col>P.EN2_r1</th><th scope=col>P.EN2_r2</th><th scope=col>P.EN2_r3</th><th scope=col>P.EN2_r4</th><th scope=col>P.EN2_r5</th></tr></thead>\n",
       "<tbody>\n",
       "\t<tr><th scope=row>ERCC-00002</th><td>12075.0372</td><td>14097.3170</td><td>14240.2966</td><td>14735.2292</td><td>15290.5389</td></tr>\n",
       "\t<tr><th scope=row>ERCC-00003</th><td>  270.5944</td><td>  411.7351</td><td>  489.4273</td><td>  802.7052</td><td>  806.6205</td></tr>\n",
       "\t<tr><th scope=row>ERCC-00004</th><td> 4339.1067</td><td> 3867.4418</td><td> 4001.0686</td><td> 4482.9562</td><td> 5049.1541</td></tr>\n",
       "\t<tr><th scope=row>ERCC-00009</th><td>  497.0494</td><td>  620.6752</td><td>  279.3814</td><td>  636.0677</td><td>  792.1055</td></tr>\n",
       "\t<tr><th scope=row>ERCC-00012</th><td>    0.0000</td><td>    0.0000</td><td>    0.0000</td><td>    0.0000</td><td>    0.0000</td></tr>\n",
       "</tbody>\n",
       "</table>\n"
      ],
      "text/latex": [
       "\\begin{tabular}{r|lllll}\n",
       "  & P.EN2\\_r1 & P.EN2\\_r2 & P.EN2\\_r3 & P.EN2\\_r4 & P.EN2\\_r5\\\\\n",
       "\\hline\n",
       "\tERCC-00002 & 12075.0372 & 14097.3170 & 14240.2966 & 14735.2292 & 15290.5389\\\\\n",
       "\tERCC-00003 &   270.5944 &   411.7351 &   489.4273 &   802.7052 &   806.6205\\\\\n",
       "\tERCC-00004 &  4339.1067 &  3867.4418 &  4001.0686 &  4482.9562 &  5049.1541\\\\\n",
       "\tERCC-00009 &   497.0494 &   620.6752 &   279.3814 &   636.0677 &   792.1055\\\\\n",
       "\tERCC-00012 &     0.0000 &     0.0000 &     0.0000 &     0.0000 &     0.0000\\\\\n",
       "\\end{tabular}\n"
      ],
      "text/markdown": [
       "\n",
       "| <!--/--> | P.EN2_r1 | P.EN2_r2 | P.EN2_r3 | P.EN2_r4 | P.EN2_r5 |\n",
       "|---|---|---|---|---|---|\n",
       "| ERCC-00002 | 12075.0372 | 14097.3170 | 14240.2966 | 14735.2292 | 15290.5389 |\n",
       "| ERCC-00003 |   270.5944 |   411.7351 |   489.4273 |   802.7052 |   806.6205 |\n",
       "| ERCC-00004 |  4339.1067 |  3867.4418 |  4001.0686 |  4482.9562 |  5049.1541 |\n",
       "| ERCC-00009 |   497.0494 |   620.6752 |   279.3814 |   636.0677 |   792.1055 |\n",
       "| ERCC-00012 |     0.0000 |     0.0000 |     0.0000 |     0.0000 |     0.0000 |\n",
       "\n"
      ],
      "text/plain": [
       "           P.EN2_r1   P.EN2_r2   P.EN2_r3   P.EN2_r4   P.EN2_r5  \n",
       "ERCC-00002 12075.0372 14097.3170 14240.2966 14735.2292 15290.5389\n",
       "ERCC-00003   270.5944   411.7351   489.4273   802.7052   806.6205\n",
       "ERCC-00004  4339.1067  3867.4418  4001.0686  4482.9562  5049.1541\n",
       "ERCC-00009   497.0494   620.6752   279.3814   636.0677   792.1055\n",
       "ERCC-00012     0.0000     0.0000     0.0000     0.0000     0.0000"
      ]
     },
     "metadata": {},
     "output_type": "display_data"
    },
    {
     "name": "stdout",
     "output_type": "stream",
     "text": [
      "[1] \"P.EN2\"      \"ring\"       \"wholebrain\"\n"
     ]
    }
   ],
   "source": [
    "dat=read.csv(\"data\\\\lowCellSeq.csv\",as.is=T,header=T,row.names=1)\n",
    "dat[1:5,1:5] #view first five rows+columns of data matrix to check that the input is correct\n",
    "celltyp=(do.call(rbind,strsplit(colnames(dat),\"_\"))[,1])\n",
    "print(unique(celltyp))\n",
    "dge_table=list()"
   ]
  },
  {
   "cell_type": "markdown",
   "metadata": {},
   "source": [
    "#### Run differential expression vs. whole brain data"
   ]
  },
  {
   "cell_type": "code",
   "execution_count": 3,
   "metadata": {},
   "outputs": [],
   "source": [
    "celltype1_columns=which(celltyp==\"P.EN2\")\n",
    "celltype2_columns=which(celltyp==\"wholebrain\")\n",
    "\n",
    "classvec=as.factor(rep(c(1,2),times=c(length(celltype1_columns),length(celltype2_columns))))\n",
    "startmat_cpm=sweep(dat[,c(celltype1_columns,celltype2_columns)],2,colSums(dat[,c(celltype1_columns,celltype2_columns)]),\"/\")*10^6\n",
    "e_design=model.matrix(~classvec)\n",
    "y2 = DGEList(counts=dat[,c(celltype1_columns,celltype2_columns)])\n",
    "y2 = estimateDisp(y2, e_design)\n",
    "fit = glmQLFit(y2, e_design)\n",
    "qlf.2vs1 <- glmQLFTest(fit, coef=2)\n",
    "outval2=topTags(qlf.2vs1,n=nrow(startmat_cpm),p.value=1)\n",
    "outval2$table=outval2$table[intersect(rownames(outval2$table),rownames(startmat_cpm)),]\n",
    "mean1=apply(startmat_cpm[rownames(outval2$table),classvec==1],1,mean)\n",
    "mean2=apply(startmat_cpm[rownames(outval2$table),classvec==2],1,mean)\n",
    "frac1=rowSums(startmat_cpm[rownames(outval2$table),classvec==1]>0)/length(celltype1_columns)\n",
    "frac2=rowSums(startmat_cpm[rownames(outval2$table),classvec==2]>0)/length(celltype2_columns)\n",
    "dge_table[[\"PEN2_wholebrain\"]]=cbind(outval2$table,mean1,mean2,frac1,frac2)"
   ]
  },
  {
   "cell_type": "code",
   "execution_count": 4,
   "metadata": {},
   "outputs": [],
   "source": [
    "celltype1_columns=which(celltyp==\"ring\")\n",
    "celltype2_columns=which(celltyp==\"wholebrain\")\n",
    "\n",
    "classvec=as.factor(rep(c(1,2),times=c(length(celltype1_columns),length(celltype2_columns))))\n",
    "startmat_cpm=sweep(dat[,c(celltype1_columns,celltype2_columns)],2,colSums(dat[,c(celltype1_columns,celltype2_columns)]),\"/\")*10^6\n",
    "e_design=model.matrix(~classvec)\n",
    "y2 = DGEList(counts=dat[,c(celltype1_columns,celltype2_columns)])\n",
    "y2 = estimateDisp(y2, e_design)\n",
    "fit = glmQLFit(y2, e_design)\n",
    "qlf.2vs1 <- glmQLFTest(fit, coef=2)\n",
    "outval2=topTags(qlf.2vs1,n=nrow(startmat_cpm),p.value=1)\n",
    "outval2$table=outval2$table[intersect(rownames(outval2$table),rownames(startmat_cpm)),]\n",
    "mean1=apply(startmat_cpm[rownames(outval2$table),classvec==1],1,mean)\n",
    "mean2=apply(startmat_cpm[rownames(outval2$table),classvec==2],1,mean)\n",
    "frac1=rowSums(startmat_cpm[rownames(outval2$table),classvec==1]>0)/length(celltype1_columns)\n",
    "frac2=rowSums(startmat_cpm[rownames(outval2$table),classvec==2]>0)/length(celltype2_columns)\n",
    "dge_table[[\"ring_wholebrain\"]]=cbind(outval2$table,mean1,mean2,frac1,frac2)"
   ]
  },
  {
   "cell_type": "markdown",
   "metadata": {},
   "source": [
    "#### Save the data"
   ]
  },
  {
   "cell_type": "code",
   "execution_count": 5,
   "metadata": {},
   "outputs": [],
   "source": [
    "for (tablename in names(dge_table)) {\n",
    "    write.csv(dge_table[[tablename]],file=paste0(\"dge\\\\dge_table_\",tablename,\".csv\"))\n",
    "}"
   ]
  },
  {
   "cell_type": "markdown",
   "metadata": {},
   "source": [
    "## Look at the bulk data"
   ]
  },
  {
   "cell_type": "markdown",
   "metadata": {},
   "source": [
    "#### Load data from csv file (genes in rows, samples in columns)"
   ]
  },
  {
   "cell_type": "code",
   "execution_count": 6,
   "metadata": {},
   "outputs": [
    {
     "data": {
      "text/html": [
       "<table>\n",
       "<thead><tr><th></th><th scope=col>E.PG_l1r1</th><th scope=col>E.PG_l1r2</th><th scope=col>E.PG_l2r1</th><th scope=col>E.PG_l2r2</th><th scope=col>P.EG_r1</th></tr></thead>\n",
       "<tbody>\n",
       "\t<tr><th scope=row>ERCC-00002</th><td>1548.17</td><td>727.82 </td><td>173.11 </td><td>298.57 </td><td>231.35 </td></tr>\n",
       "\t<tr><th scope=row>ERCC-00003</th><td>  68.98</td><td> 90.31 </td><td> 41.60 </td><td> 26.95 </td><td> 36.51 </td></tr>\n",
       "\t<tr><th scope=row>ERCC-00004</th><td> 614.97</td><td>299.36 </td><td>186.32 </td><td> 76.96 </td><td>141.78 </td></tr>\n",
       "\t<tr><th scope=row>ERCC-00009</th><td>  89.47</td><td> 24.66 </td><td> 19.90 </td><td>  4.68 </td><td> 16.55 </td></tr>\n",
       "\t<tr><th scope=row>ERCC-00012</th><td>   0.00</td><td>  0.00 </td><td>  0.00 </td><td>  0.00 </td><td>  0.00 </td></tr>\n",
       "</tbody>\n",
       "</table>\n"
      ],
      "text/latex": [
       "\\begin{tabular}{r|lllll}\n",
       "  & E.PG\\_l1r1 & E.PG\\_l1r2 & E.PG\\_l2r1 & E.PG\\_l2r2 & P.EG\\_r1\\\\\n",
       "\\hline\n",
       "\tERCC-00002 & 1548.17 & 727.82  & 173.11  & 298.57  & 231.35 \\\\\n",
       "\tERCC-00003 &   68.98 &  90.31  &  41.60  &  26.95  &  36.51 \\\\\n",
       "\tERCC-00004 &  614.97 & 299.36  & 186.32  &  76.96  & 141.78 \\\\\n",
       "\tERCC-00009 &   89.47 &  24.66  &  19.90  &   4.68  &  16.55 \\\\\n",
       "\tERCC-00012 &    0.00 &   0.00  &   0.00  &   0.00  &   0.00 \\\\\n",
       "\\end{tabular}\n"
      ],
      "text/markdown": [
       "\n",
       "| <!--/--> | E.PG_l1r1 | E.PG_l1r2 | E.PG_l2r1 | E.PG_l2r2 | P.EG_r1 |\n",
       "|---|---|---|---|---|---|\n",
       "| ERCC-00002 | 1548.17 | 727.82  | 173.11  | 298.57  | 231.35  |\n",
       "| ERCC-00003 |   68.98 |  90.31  |  41.60  |  26.95  |  36.51  |\n",
       "| ERCC-00004 |  614.97 | 299.36  | 186.32  |  76.96  | 141.78  |\n",
       "| ERCC-00009 |   89.47 |  24.66  |  19.90  |   4.68  |  16.55  |\n",
       "| ERCC-00012 |    0.00 |   0.00  |   0.00  |   0.00  |   0.00  |\n",
       "\n"
      ],
      "text/plain": [
       "           E.PG_l1r1 E.PG_l1r2 E.PG_l2r1 E.PG_l2r2 P.EG_r1\n",
       "ERCC-00002 1548.17   727.82    173.11    298.57    231.35 \n",
       "ERCC-00003   68.98    90.31     41.60     26.95     36.51 \n",
       "ERCC-00004  614.97   299.36    186.32     76.96    141.78 \n",
       "ERCC-00009   89.47    24.66     19.90      4.68     16.55 \n",
       "ERCC-00012    0.00     0.00      0.00      0.00      0.00 "
      ]
     },
     "metadata": {},
     "output_type": "display_data"
    },
    {
     "name": "stdout",
     "output_type": "stream",
     "text": [
      "[1] \"E.PG\"       \"P.EG\"       \"D7\"         \"P.EN2\"      \"wholebrain\"\n"
     ]
    }
   ],
   "source": [
    "dat=read.csv(\"data\\\\bulkSeq.csv\",as.is=T,header=T,row.names=1)\n",
    "dat[1:5,1:5] #view first five rows+columns of data matrix to check that the input is correct\n",
    "celltyp=(do.call(rbind,strsplit(colnames(dat),\"_\"))[,1])\n",
    "print(unique(celltyp))\n",
    "dge_table=list()"
   ]
  },
  {
   "cell_type": "code",
   "execution_count": 7,
   "metadata": {},
   "outputs": [],
   "source": [
    "celltype1_columns=which(celltyp==\"E.PG\")\n",
    "celltype2_columns=which(celltyp==\"wholebrain\")\n",
    "\n",
    "classvec=as.factor(rep(c(1,2),times=c(length(celltype1_columns),length(celltype2_columns))))\n",
    "startmat_cpm=sweep(dat[,c(celltype1_columns,celltype2_columns)],2,colSums(dat[,c(celltype1_columns,celltype2_columns)]),\"/\")*10^6\n",
    "e_design=model.matrix(~classvec)\n",
    "y2 = DGEList(counts=dat[,c(celltype1_columns,celltype2_columns)])\n",
    "y2 = estimateDisp(y2, e_design)\n",
    "fit = glmQLFit(y2, e_design)\n",
    "qlf.2vs1 <- glmQLFTest(fit, coef=2)\n",
    "outval2=topTags(qlf.2vs1,n=nrow(startmat_cpm),p.value=1)\n",
    "outval2$table=outval2$table[intersect(rownames(outval2$table),rownames(startmat_cpm)),]\n",
    "mean1=apply(startmat_cpm[rownames(outval2$table),classvec==1],1,mean)\n",
    "mean2=apply(startmat_cpm[rownames(outval2$table),classvec==2],1,mean)\n",
    "frac1=rowSums(startmat_cpm[rownames(outval2$table),classvec==1]>0)/length(celltype1_columns)\n",
    "frac2=rowSums(startmat_cpm[rownames(outval2$table),classvec==2]>0)/length(celltype2_columns)\n",
    "dge_table[[\"EPG_wholebrain\"]]=cbind(outval2$table,mean1,mean2,frac1,frac2)"
   ]
  },
  {
   "cell_type": "code",
   "execution_count": 8,
   "metadata": {},
   "outputs": [],
   "source": [
    "celltype1_columns=which(celltyp==\"P.EG\")\n",
    "celltype2_columns=which(celltyp==\"wholebrain\")\n",
    "\n",
    "classvec=as.factor(rep(c(1,2),times=c(length(celltype1_columns),length(celltype2_columns))))\n",
    "startmat_cpm=sweep(dat[,c(celltype1_columns,celltype2_columns)],2,colSums(dat[,c(celltype1_columns,celltype2_columns)]),\"/\")*10^6\n",
    "e_design=model.matrix(~classvec)\n",
    "y2 = DGEList(counts=dat[,c(celltype1_columns,celltype2_columns)])\n",
    "y2 = estimateDisp(y2, e_design)\n",
    "fit = glmQLFit(y2, e_design)\n",
    "qlf.2vs1 <- glmQLFTest(fit, coef=2)\n",
    "outval2=topTags(qlf.2vs1,n=nrow(startmat_cpm),p.value=1)\n",
    "outval2$table=outval2$table[intersect(rownames(outval2$table),rownames(startmat_cpm)),]\n",
    "mean1=apply(startmat_cpm[rownames(outval2$table),classvec==1],1,mean)\n",
    "mean2=apply(startmat_cpm[rownames(outval2$table),classvec==2],1,mean)\n",
    "frac1=rowSums(startmat_cpm[rownames(outval2$table),classvec==1]>0)/length(celltype1_columns)\n",
    "frac2=rowSums(startmat_cpm[rownames(outval2$table),classvec==2]>0)/length(celltype2_columns)\n",
    "dge_table[[\"PEG_wholebrain\"]]=cbind(outval2$table,mean1,mean2,frac1,frac2)"
   ]
  },
  {
   "cell_type": "code",
   "execution_count": 9,
   "metadata": {},
   "outputs": [],
   "source": [
    "celltype1_columns=which(celltyp==\"D7\")\n",
    "celltype2_columns=which(celltyp==\"wholebrain\")\n",
    "\n",
    "classvec=as.factor(rep(c(1,2),times=c(length(celltype1_columns),length(celltype2_columns))))\n",
    "startmat_cpm=sweep(dat[,c(celltype1_columns,celltype2_columns)],2,colSums(dat[,c(celltype1_columns,celltype2_columns)]),\"/\")*10^6\n",
    "e_design=model.matrix(~classvec)\n",
    "y2 = DGEList(counts=dat[,c(celltype1_columns,celltype2_columns)])\n",
    "y2 = estimateDisp(y2, e_design)\n",
    "fit = glmQLFit(y2, e_design)\n",
    "qlf.2vs1 <- glmQLFTest(fit, coef=2)\n",
    "outval2=topTags(qlf.2vs1,n=nrow(startmat_cpm),p.value=1)\n",
    "outval2$table=outval2$table[intersect(rownames(outval2$table),rownames(startmat_cpm)),]\n",
    "mean1=apply(startmat_cpm[rownames(outval2$table),classvec==1],1,mean)\n",
    "mean2=apply(startmat_cpm[rownames(outval2$table),classvec==2],1,mean)\n",
    "frac1=rowSums(startmat_cpm[rownames(outval2$table),classvec==1]>0)/length(celltype1_columns)\n",
    "frac2=rowSums(startmat_cpm[rownames(outval2$table),classvec==2]>0)/length(celltype2_columns)\n",
    "dge_table[[\"D7_wholebrain\"]]=cbind(outval2$table,mean1,mean2,frac1,frac2)"
   ]
  },
  {
   "cell_type": "code",
   "execution_count": 10,
   "metadata": {},
   "outputs": [],
   "source": [
    "celltype1_columns=which(celltyp==\"P.EN2\")\n",
    "celltype2_columns=which(celltyp==\"wholebrain\")\n",
    "\n",
    "classvec=as.factor(rep(c(1,2),times=c(length(celltype1_columns),length(celltype2_columns))))\n",
    "startmat_cpm=sweep(dat[,c(celltype1_columns,celltype2_columns)],2,colSums(dat[,c(celltype1_columns,celltype2_columns)]),\"/\")*10^6\n",
    "e_design=model.matrix(~classvec)\n",
    "y2 = DGEList(counts=dat[,c(celltype1_columns,celltype2_columns)])\n",
    "y2 = estimateDisp(y2, e_design)\n",
    "fit = glmQLFit(y2, e_design)\n",
    "qlf.2vs1 <- glmQLFTest(fit, coef=2)\n",
    "outval2=topTags(qlf.2vs1,n=nrow(startmat_cpm),p.value=1)\n",
    "outval2$table=outval2$table[intersect(rownames(outval2$table),rownames(startmat_cpm)),]\n",
    "mean1=apply(startmat_cpm[rownames(outval2$table),classvec==1],1,mean)\n",
    "mean2=apply(startmat_cpm[rownames(outval2$table),classvec==2],1,mean)\n",
    "frac1=rowSums(startmat_cpm[rownames(outval2$table),classvec==1]>0)/length(celltype1_columns)\n",
    "frac2=rowSums(startmat_cpm[rownames(outval2$table),classvec==2]>0)/length(celltype2_columns)\n",
    "dge_table[[\"PEN2_wholebrain\"]]=cbind(outval2$table,mean1,mean2,frac1,frac2)"
   ]
  },
  {
   "cell_type": "code",
   "execution_count": 11,
   "metadata": {},
   "outputs": [],
   "source": [
    "for (tablename in names(dge_table)) {\n",
    "    write.csv(dge_table[[tablename]],file=paste0(\"dge\\\\dge_table_\",tablename,\".csv\"))\n",
    "}"
   ]
  }
 ],
 "metadata": {
  "kernelspec": {
   "display_name": "R",
   "language": "R",
   "name": "ir"
  },
  "language_info": {
   "codemirror_mode": "r",
   "file_extension": ".r",
   "mimetype": "text/x-r-source",
   "name": "R",
   "pygments_lexer": "r",
   "version": "3.6.1"
  }
 },
 "nbformat": 4,
 "nbformat_minor": 4
}
